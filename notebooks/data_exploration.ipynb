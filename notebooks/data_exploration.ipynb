{
 "cells": [
  {
   "cell_type": "markdown",
   "metadata": {},
   "source": [
    "## Adding Geospatial Data"
   ]
  },
  {
   "cell_type": "code",
   "execution_count": 3,
   "metadata": {},
   "outputs": [
    {
     "data": {
      "text/html": [
       "<div>\n",
       "<style scoped>\n",
       "    .dataframe tbody tr th:only-of-type {\n",
       "        vertical-align: middle;\n",
       "    }\n",
       "\n",
       "    .dataframe tbody tr th {\n",
       "        vertical-align: top;\n",
       "    }\n",
       "\n",
       "    .dataframe thead th {\n",
       "        text-align: right;\n",
       "    }\n",
       "</style>\n",
       "<table border=\"1\" class=\"dataframe\">\n",
       "  <thead>\n",
       "    <tr style=\"text-align: right;\">\n",
       "      <th></th>\n",
       "      <th>Toll Date</th>\n",
       "      <th>Toll Hour</th>\n",
       "      <th>Toll 10 Minute Block</th>\n",
       "      <th>Minute of Hour</th>\n",
       "      <th>Hour of Day</th>\n",
       "      <th>Day of Week Int</th>\n",
       "      <th>Day of Week</th>\n",
       "      <th>Toll Week</th>\n",
       "      <th>Time Period</th>\n",
       "      <th>Vehicle Class</th>\n",
       "      <th>Detection Group</th>\n",
       "      <th>Detection Region</th>\n",
       "      <th>CRZ Entries</th>\n",
       "      <th>Excluded Roadway Entries</th>\n",
       "    </tr>\n",
       "  </thead>\n",
       "  <tbody>\n",
       "    <tr>\n",
       "      <th>0</th>\n",
       "      <td>03/29/2025</td>\n",
       "      <td>03/29/2025 11:00:00 PM</td>\n",
       "      <td>03/29/2025 11:50:00 PM</td>\n",
       "      <td>50</td>\n",
       "      <td>23</td>\n",
       "      <td>7</td>\n",
       "      <td>Saturday</td>\n",
       "      <td>03/23/2025</td>\n",
       "      <td>Overnight</td>\n",
       "      <td>1 - Cars, Pickups and Vans</td>\n",
       "      <td>Brooklyn Bridge</td>\n",
       "      <td>Brooklyn</td>\n",
       "      <td>103</td>\n",
       "      <td>99</td>\n",
       "    </tr>\n",
       "    <tr>\n",
       "      <th>1</th>\n",
       "      <td>03/29/2025</td>\n",
       "      <td>03/29/2025 11:00:00 PM</td>\n",
       "      <td>03/29/2025 11:50:00 PM</td>\n",
       "      <td>50</td>\n",
       "      <td>23</td>\n",
       "      <td>7</td>\n",
       "      <td>Saturday</td>\n",
       "      <td>03/23/2025</td>\n",
       "      <td>Overnight</td>\n",
       "      <td>TLC Taxi/FHV</td>\n",
       "      <td>West Side Highway at 60th St</td>\n",
       "      <td>West Side Highway</td>\n",
       "      <td>97</td>\n",
       "      <td>2</td>\n",
       "    </tr>\n",
       "    <tr>\n",
       "      <th>2</th>\n",
       "      <td>03/29/2025</td>\n",
       "      <td>03/29/2025 11:00:00 PM</td>\n",
       "      <td>03/29/2025 11:50:00 PM</td>\n",
       "      <td>50</td>\n",
       "      <td>23</td>\n",
       "      <td>7</td>\n",
       "      <td>Saturday</td>\n",
       "      <td>03/23/2025</td>\n",
       "      <td>Overnight</td>\n",
       "      <td>TLC Taxi/FHV</td>\n",
       "      <td>West 60th St</td>\n",
       "      <td>West 60th St</td>\n",
       "      <td>197</td>\n",
       "      <td>0</td>\n",
       "    </tr>\n",
       "    <tr>\n",
       "      <th>3</th>\n",
       "      <td>03/29/2025</td>\n",
       "      <td>03/29/2025 11:00:00 PM</td>\n",
       "      <td>03/29/2025 11:50:00 PM</td>\n",
       "      <td>50</td>\n",
       "      <td>23</td>\n",
       "      <td>7</td>\n",
       "      <td>Saturday</td>\n",
       "      <td>03/23/2025</td>\n",
       "      <td>Overnight</td>\n",
       "      <td>TLC Taxi/FHV</td>\n",
       "      <td>Queensboro Bridge</td>\n",
       "      <td>Queens</td>\n",
       "      <td>77</td>\n",
       "      <td>0</td>\n",
       "    </tr>\n",
       "    <tr>\n",
       "      <th>4</th>\n",
       "      <td>03/29/2025</td>\n",
       "      <td>03/29/2025 11:00:00 PM</td>\n",
       "      <td>03/29/2025 11:50:00 PM</td>\n",
       "      <td>50</td>\n",
       "      <td>23</td>\n",
       "      <td>7</td>\n",
       "      <td>Saturday</td>\n",
       "      <td>03/23/2025</td>\n",
       "      <td>Overnight</td>\n",
       "      <td>TLC Taxi/FHV</td>\n",
       "      <td>Queens Midtown Tunnel</td>\n",
       "      <td>Queens</td>\n",
       "      <td>137</td>\n",
       "      <td>0</td>\n",
       "    </tr>\n",
       "  </tbody>\n",
       "</table>\n",
       "</div>"
      ],
      "text/plain": [
       "    Toll Date               Toll Hour    Toll 10 Minute Block  Minute of Hour  \\\n",
       "0  03/29/2025  03/29/2025 11:00:00 PM  03/29/2025 11:50:00 PM              50   \n",
       "1  03/29/2025  03/29/2025 11:00:00 PM  03/29/2025 11:50:00 PM              50   \n",
       "2  03/29/2025  03/29/2025 11:00:00 PM  03/29/2025 11:50:00 PM              50   \n",
       "3  03/29/2025  03/29/2025 11:00:00 PM  03/29/2025 11:50:00 PM              50   \n",
       "4  03/29/2025  03/29/2025 11:00:00 PM  03/29/2025 11:50:00 PM              50   \n",
       "\n",
       "   Hour of Day  Day of Week Int Day of Week   Toll Week Time Period  \\\n",
       "0           23                7    Saturday  03/23/2025   Overnight   \n",
       "1           23                7    Saturday  03/23/2025   Overnight   \n",
       "2           23                7    Saturday  03/23/2025   Overnight   \n",
       "3           23                7    Saturday  03/23/2025   Overnight   \n",
       "4           23                7    Saturday  03/23/2025   Overnight   \n",
       "\n",
       "                Vehicle Class               Detection Group  \\\n",
       "0  1 - Cars, Pickups and Vans               Brooklyn Bridge   \n",
       "1                TLC Taxi/FHV  West Side Highway at 60th St   \n",
       "2                TLC Taxi/FHV                  West 60th St   \n",
       "3                TLC Taxi/FHV             Queensboro Bridge   \n",
       "4                TLC Taxi/FHV         Queens Midtown Tunnel   \n",
       "\n",
       "    Detection Region  CRZ Entries  Excluded Roadway Entries  \n",
       "0           Brooklyn          103                        99  \n",
       "1  West Side Highway           97                         2  \n",
       "2       West 60th St          197                         0  \n",
       "3             Queens           77                         0  \n",
       "4             Queens          137                         0  "
      ]
     },
     "execution_count": 3,
     "metadata": {},
     "output_type": "execute_result"
    }
   ],
   "source": [
    "import pandas as pd\n",
    "\n",
    "df = pd.read_csv(\"data_original.csv\")\n",
    "df.head(5)"
   ]
  },
  {
   "cell_type": "code",
   "execution_count": 4,
   "metadata": {},
   "outputs": [],
   "source": [
    "# Get latitude and longitude using geopy\n",
    "from geopy.geocoders import Nominatim\n",
    "import pandas as pd\n",
    "\n",
    "geolocator = Nominatim(user_agent=\"mta-map-app\")\n",
    "\n",
    "def get_coordinates(location_name):\n",
    "    try:\n",
    "        location = geolocator.geocode(location_name + \", New York City\")\n",
    "        if location:\n",
    "            return location.latitude, location.longitude\n",
    "    except:\n",
    "        return None, None\n",
    "    return None, None\n",
    "\n",
    "unique_groups = df[\"Detection Group\"].dropna().unique()\n",
    "location_map = {group: get_coordinates(group) for group in unique_groups}"
   ]
  },
  {
   "cell_type": "code",
   "execution_count": 5,
   "metadata": {},
   "outputs": [],
   "source": [
    "# Add back to dataframe\n",
    "df[\"Latitude\"] = df[\"Detection Group\"].map(lambda x: location_map.get(x, (None, None))[0])\n",
    "df[\"Longitude\"] = df[\"Detection Group\"].map(lambda x: location_map.get(x, (None, None))[1])"
   ]
  },
  {
   "cell_type": "code",
   "execution_count": 6,
   "metadata": {},
   "outputs": [
    {
     "name": "stdout",
     "output_type": "stream",
     "text": [
      "['West Side Highway at 60th St' 'FDR Drive at 60th St']\n"
     ]
    }
   ],
   "source": [
    "# Check if any detection groups are missing geospatial data\n",
    "null_detection_groups = df[df[\"Latitude\"].isna() | df[\"Longitude\"].isna()][\"Detection Group\"].dropna().unique()\n",
    "print(null_detection_groups)"
   ]
  },
  {
   "cell_type": "code",
   "execution_count": 7,
   "metadata": {},
   "outputs": [],
   "source": [
    "# We are missing only two. We can manually add these\n",
    "# West Side Highway at 60th St: 40.773557, -73.992791\n",
    "# FDR Drive at 60th St: 40.759008, -73.958702\n",
    "# Define the correction mapping\n",
    "manual_coords = {\n",
    "    \"West Side Highway at 60th St\": (40.773557, -73.992791),\n",
    "    \"FDR Drive at 60th St\": (40.759008, -73.958702)\n",
    "}\n",
    "\n",
    "# Fill in missing lat/lon for those detection groups\n",
    "for group, (lat, lon) in manual_coords.items():\n",
    "    mask = df[\"Detection Group\"] == group\n",
    "    df.loc[mask, \"Latitude\"] = lat\n",
    "    df.loc[mask, \"Longitude\"] = lon"
   ]
  },
  {
   "cell_type": "code",
   "execution_count": 8,
   "metadata": {},
   "outputs": [
    {
     "name": "stdout",
     "output_type": "stream",
     "text": [
      "[]\n"
     ]
    }
   ],
   "source": [
    "# Verify no more missing geospatial data\n",
    "null_detection_groups = df[df[\"Latitude\"].isna() | df[\"Longitude\"].isna()][\"Detection Group\"].dropna().unique()\n",
    "print(null_detection_groups)"
   ]
  },
  {
   "cell_type": "code",
   "execution_count": 9,
   "metadata": {},
   "outputs": [],
   "source": [
    "# Save into data_augmented.csv\n",
    "df.to_csv(\"data_augmented.csv\", index=False)"
   ]
  }
 ],
 "metadata": {
  "kernelspec": {
   "display_name": "Python 3 (ipykernel)",
   "language": "python",
   "name": "python3"
  },
  "language_info": {
   "codemirror_mode": {
    "name": "ipython",
    "version": 3
   },
   "file_extension": ".py",
   "mimetype": "text/x-python",
   "name": "python",
   "nbconvert_exporter": "python",
   "pygments_lexer": "ipython3",
   "version": "3.13.1"
  }
 },
 "nbformat": 4,
 "nbformat_minor": 4
}
